{
 "cells": [
  {
   "cell_type": "markdown",
   "metadata": {},
   "source": [
    "# 計算量とオーダー表記  \n",
    "---\n",
    "\n",
    "<br>\n",
    "\n",
    "### 計算量と$O$表記の定義\n",
    "> 「アルゴリズム $A$ の計算時間 $T(N)$ が概ね $P(N)$に比例する」ことを,  \n",
    "$T(N) = O(P(N))$であると表し, アルゴリズム $A$ の計算量は $O(P(N))$ であるという.\n",
    "\n",
    "<br>\n",
    "<br>\n",
    "<br>\n",
    "\n",
    "### 例1)\n",
    "イテレーション回数を$N$として, 処理時間$T(N)$が$3N+2$で表せるプログラムがあったとき,  このアルゴリズムの処理時間は概ね $N$ に比例し, $O(N)$ である.  この時, $+2$は$3N=2$が$N$に対してどれほど増加速度が高いかを極限で考えると無視可能.  \n",
    "\n",
    "$$ \\lim_{N \\to \\infty} = \\frac{3N+2}{N} = \\frac{3+\\frac{2}{N}}{1} = 3$$\n",
    "\n",
    "極限が定数に収束することから, $T(N)$が$N$に対して比例していることがわかる.  \n",
    "\n",
    "<br>\n",
    "<br>\n",
    "<br>\n",
    "\n",
    "### 例2) \n",
    "あるアルゴリズムの処理時間$T(N)$が\n",
    "$$T(N) = 3N^2 + 5N + 100$$\n",
    "であるとき, 同様に, \n",
    "\n",
    "$$ \\lim_{N \\to \\infty} = \\frac{3N^2 + 5N + 100}{N} = \\frac{3 + \\frac{5}{N} + \\frac{100}{N^2}}{1} = 3$$\n",
    "\n",
    "極限が定数に収束することから, $T(N)$が$N^2$に対して比例していることがわかる. すなわち$O(N^2)$である.\n",
    "\n",
    "<br>\n",
    "<br>\n",
    "<br>\n",
    "\n",
    "# オーダーの分類\n",
    "---\n",
    "$O(N^d)$を **多項式時間**といい, $O(2^N)$や$O(N!)$を**指数時間**という.  \n",
    "また, オーダーを求めるときは, アルゴリズムが最悪の場合どれくらい計算時間がかかるか? (**最悪計算時間**) を考慮して決定するのが一般的である.\n",
    "\n",
    "<br>\n",
    "<br>\n",
    "<br>\n",
    "\n",
    "# アルゴリズムの良し悪しは何で判定されるか?\n",
    "---\n",
    "* **時間計算量 (time complexity)**: アルゴリズムの計算時間  \n",
    "* **領域計算量 (space complexity)**: メモリ使用量  \n",
    "\n",
    "で評価され, 時間計算量, 領域計算量ともに小さいほど良いアルゴリズムである.\n",
    "\n"
   ]
  },
  {
   "cell_type": "code",
   "execution_count": null,
   "metadata": {},
   "outputs": [],
   "source": []
  }
 ],
 "metadata": {
  "kernelspec": {
   "display_name": "Python 3 (ipykernel)",
   "language": "python",
   "name": "python3"
  },
  "language_info": {
   "codemirror_mode": {
    "name": "ipython",
    "version": 3
   },
   "file_extension": ".py",
   "mimetype": "text/x-python",
   "name": "python",
   "nbconvert_exporter": "python",
   "pygments_lexer": "ipython3",
   "version": "3.9.6"
  }
 },
 "nbformat": 4,
 "nbformat_minor": 4
}
