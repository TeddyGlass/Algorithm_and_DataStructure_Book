{
 "cells": [
  {
   "cell_type": "markdown",
   "source": [
    "# 動的計画法\n",
    "---\n",
    "動的計画法の定義を説明することは困難だが, 抽象的な言葉を用いれば,  \n",
    "> 与えられた問題全体を**一連の部分問題に分解**し, 各部分問題に対する**解をメモ化**しながら,  \n",
    "> **小さな部分問題からより大きな部分問題**へと順に解を求めていく方法とされる.\n",
    "\n",
    "動的計画法を用いれば以下のような問題を効率よく扱うことができる.  \n",
    "* ナップザック問題\n",
    "* スケジューリング問題  \n",
    "* 発電計画問題  \n",
    "* 編集距離 (diff コマンド)  \n",
    "* 音声認識パターンマッチング  \n",
    "* 隠れマルコフモデル  "
   ],
   "metadata": {}
  },
  {
   "cell_type": "markdown",
   "source": [
    "## 例題 1. Frog問題\n",
    "---\n",
    "> $N$個の足場があって, $i = (0, 1, ..., N-1)$番目の足場の高さは$h_i$で与えられます.  \n",
    "> 最初0番目の足場にカエルがいて, 以下のいずれかの行動を繰り返して$N-1$番目の足場を目指します.  \n",
    "\n",
    "> * 足場iから足場$i+1$へと移動する (コストは$|h_i - h_{i+1}|$)  \n",
    "> * 足場iから足場$i+2$へと移動する (コストは$|h_i - h_{i+2}|$)\n",
    "\n",
    "> カエルがN-1番目の足場に辿り着くまでに要するコストの総和の最小値を求めてください.  \n",
    "> ただし, $N=7$,$h = (2, 9, 4, 5, 1, 6, 10)$とする.  \n",
    "\n",
    "この問題は, 以下の図のように足場を**頂点**, 移動ルートを**辺**, 移動コストを辺の**重み**としてグラフ構造化するとわかりやすくなる.  \n",
    "\n",
    "<img src=\"../figs/fig_2.png\">\n",
    "\n",
    "このグラフに沿って, 頂点$i$に到達するための最小コストをメモ化することで問題を解くことが可能.  \n",
    "これは, 定数時間の処理を$N$回回しているだけなので, 計算量は$O(N)$で済む.\n"
   ],
   "metadata": {}
  },
  {
   "cell_type": "code",
   "execution_count": 20,
   "source": [
    "import numpy as np\n",
    "\n",
    "h = [2, 9, 4, 5, 1, 6, 10]\n",
    "N = len(h)\n",
    "total_cost = [None]*N\n",
    "\n",
    "for i in range(N):\n",
    "    if i == 0:\n",
    "        # 0番目の足場に至るまでの最小コストをメモ化する\n",
    "        total_cost[i] = 0\n",
    "    if i == 1:\n",
    "        # 1番目の足場に至るまでの最小コストをメモ化する\n",
    "        total_cost[i] = np.abs(h[i] - h[i-1]) + total_cost[i-1]\n",
    "    elif i >= 2:\n",
    "        # n番目の足場に至るまでの最小コスト(2パターン)をメモを活用して計算する\n",
    "        total_cost1 = np.abs(h[i] - h[i-1]) + total_cost[i-1]\n",
    "        total_cost2 = np.abs(h[i] - h[i-2]) + total_cost[i-2]\n",
    "        total_cost[i] = min([total_cost1, total_cost2])\n",
    "\n",
    "total_cost"
   ],
   "outputs": [
    {
     "output_type": "execute_result",
     "data": {
      "text/plain": [
       "[0, 7, 2, 3, 5, 4, 8]"
      ]
     },
     "metadata": {},
     "execution_count": 20
    }
   ],
   "metadata": {}
  },
  {
   "cell_type": "markdown",
   "source": [
    "この問題のポイントは, **問題の全体最適解を求めるためには, その部分問題への最適化が要請される**点である.  \n",
    "このような構造を, 部分構造最適性 (optimal substructure) と呼び,  \n",
    "これによって, 直近の$i$番目の足場への最適ルート計算を逐次的に行うことで, $N-1$番目の足場への移動最小コストも求めることが可能である.  \n",
    "このような問題の構造を利用して, 各部分問題に対する最適解を順に決定していく手法を **動的計画法 (dynamic programming: PD)** という."
   ],
   "metadata": {}
  }
 ],
 "metadata": {
  "orig_nbformat": 4,
  "language_info": {
   "name": "python",
   "version": "3.9.6",
   "mimetype": "text/x-python",
   "codemirror_mode": {
    "name": "ipython",
    "version": 3
   },
   "pygments_lexer": "ipython3",
   "nbconvert_exporter": "python",
   "file_extension": ".py"
  },
  "kernelspec": {
   "name": "python3",
   "display_name": "Python 3.9.6 64-bit ('algorithm': conda)"
  },
  "interpreter": {
   "hash": "4b89158e1287a38fd92dff0678a78ed041fd2cc0c7467883649787c212b3e680"
  }
 },
 "nbformat": 4,
 "nbformat_minor": 2
}