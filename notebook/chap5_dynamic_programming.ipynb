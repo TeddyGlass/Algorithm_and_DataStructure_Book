{
 "cells": [
  {
   "cell_type": "code",
   "execution_count": 1,
   "source": [
    "import numpy as np"
   ],
   "outputs": [],
   "metadata": {}
  }
 ],
 "metadata": {
  "orig_nbformat": 4,
  "language_info": {
   "name": "python",
   "version": "3.9.6",
   "mimetype": "text/x-python",
   "codemirror_mode": {
    "name": "ipython",
    "version": 3
   },
   "pygments_lexer": "ipython3",
   "nbconvert_exporter": "python",
   "file_extension": ".py"
  },
  "kernelspec": {
   "name": "python3",
   "display_name": "Python 3.9.6 64-bit ('algorithm': conda)"
  },
  "interpreter": {
   "hash": "4b89158e1287a38fd92dff0678a78ed041fd2cc0c7467883649787c212b3e680"
  }
 },
 "nbformat": 4,
 "nbformat_minor": 2
}