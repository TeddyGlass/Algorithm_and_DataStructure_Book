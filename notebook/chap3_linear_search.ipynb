{
 "cells": [
  {
   "cell_type": "code",
   "execution_count": 2,
   "metadata": {},
   "outputs": [],
   "source": [
    "import numpy as np"
   ]
  },
  {
   "cell_type": "markdown",
   "metadata": {},
   "source": [
    "# 線形探索\n",
    "---\n",
    "線形探索とは, 「１つ１つの要素を順に並べていく」という探索手法. 全てのアルゴリズムの基本となる.  \n",
    "例えば, for文の中で```exit```という, 「これまで調べてきたものの中に$v$があったか」という情報を保持するような**フラグ**を用いて実装可能."
   ]
  },
  {
   "cell_type": "code",
   "execution_count": 35,
   "metadata": {},
   "outputs": [
    {
     "name": "stdout",
     "output_type": "stream",
     "text": [
      "1000 Yes\n"
     ]
    }
   ],
   "source": [
    "i = 0\n",
    "exist = False\n",
    "v = 1000\n",
    "vector = np.arange(0,v+1)\n",
    "\n",
    "while exist == False:\n",
    "    if  vector[i] == v:\n",
    "        print(i, 'Yes')\n",
    "        exist = True\n",
    "    i += 1"
   ]
  },
  {
   "cell_type": "markdown",
   "metadata": {},
   "source": [
    "### 条件を満たすものの場所を特定\n",
    "添字により, 条件の合う値を具体的に求めることができる.  "
   ]
  },
  {
   "cell_type": "code",
   "execution_count": 67,
   "metadata": {
    "scrolled": true
   },
   "outputs": [
    {
     "name": "stdout",
     "output_type": "stream",
     "text": [
      "0: 0\n",
      "2: 2\n",
      "4: 4\n",
      "6: 6\n",
      "8: 8\n",
      "10: 10\n",
      "12: 12\n",
      "14: 14\n",
      "16: 16\n",
      "18: 18\n",
      "20: 20\n",
      "22: 22\n",
      "24: 24\n"
     ]
    }
   ],
   "source": [
    "N = 25\n",
    "vector = np.arange(0,N)\n",
    "found_Id = -1\n",
    "\n",
    "for i in range(N):\n",
    "    if vector[i] %2 == 0:\n",
    "        found_Id = i\n",
    "        print(f'{found_Id}:', vector[found_Id])"
   ]
  },
  {
   "cell_type": "markdown",
   "metadata": {},
   "source": [
    "### 最小値を求める\n",
    "添字の使い方を応用すれば, 最小値をカウントするごとに値を更新することが可能"
   ]
  },
  {
   "cell_type": "code",
   "execution_count": 62,
   "metadata": {},
   "outputs": [
    {
     "name": "stdout",
     "output_type": "stream",
     "text": [
      "0\n"
     ]
    }
   ],
   "source": [
    "N = 10000000\n",
    "vector = np.arange(0,N)\n",
    "min_value = 1e10\n",
    "\n",
    "for i in range(N):\n",
    "    if vector[i] < min_value:\n",
    "        min_value = vector[i] \n",
    "print(min_value)"
   ]
  },
  {
   "cell_type": "markdown",
   "metadata": {},
   "source": [
    "# ペアの全探索\n",
    "---\n",
    "「与えられたデータの中から特定の条件を満たすものをさがす」という問題を少し発展させた以下のような問を考える.  \n",
    "* 与えられたデータの中から最適なペアを探す 　\n",
    "* 与えられた2組のデータの中から, それぞれ要素をぬき出す問題を最適化する  \n",
    "\n",
    "このような問いは, 以下のように定式化できる.  \n",
    "> $N$個の整数$a_{0}, a_{1}, a_{2}, ..., a_{N-1}$と, $b_{0}, b_{1}, b_{2}, ..., a_{N-1}$が与えられる.  \n",
    "これらの２組の整数列からそれぞれ１個ずつ整数を選んで和(演算)をとる.  \n",
    "その和(演算)として考えられる値のうち, 整数$K$以上の範囲内での最小値を求める. \n",
    "ただし, $a_{i} + b_{j} \\geq K$を満たすような$(i, j)$の組み合わせが少なくとも１つ以上存在するものとする.\n",
    "\n",
    "このような問題は二重のfor文を用いることで解くことができる.  \n",
    "ここで, 考えられる場合の数は$N^2$なので, 計算量は$O(N^2)$である.  \n",
    "しかし, 実はこのような問題設定は**二分探索法**を用いることで$O(N\\log{ N})$で解くことができるが,  本項では触れない."
   ]
  },
  {
   "cell_type": "code",
   "execution_count": 70,
   "metadata": {},
   "outputs": [
    {
     "name": "stdout",
     "output_type": "stream",
     "text": [
      "5\n"
     ]
    }
   ],
   "source": [
    "K =10\n",
    "a, b = [8, 5, 4], [4, 1, 9]\n",
    "min_value = int(1e5)\n",
    "\n",
    "# 線形探索\n",
    "for i in a:\n",
    "    for j in b:\n",
    "        if i+j < K:\n",
    "            min_value = i+j\n",
    "# 結果出力\n",
    "print(min_value)"
   ]
  },
  {
   "cell_type": "markdown",
   "metadata": {},
   "source": [
    "# 組み合わせの全探索\n",
    "---\n",
    "\n",
    "以下のような問いに定式化可能なものを**部分和問題**と呼ぶ.  \n",
    "> $N$個の正の整数$a_{0}, a_{1}, a_{2}, ..., a_{N-1}$と, 正の整数$W$が与えられる.  \n",
    "$a_{0}, a_{1}, a_{2}, ..., a_{N-1}$の中から何個かの整数(**部分集合**)を選んで総和(**部分和**)を$W$とすることができるかどうかを判定しなさい.  \n",
    "\n",
    "このような問いの場合, 解法には  \n",
    "1. **bit全探索** \n",
    "2. **再帰関数**\n",
    "2. **動的計画法**  \n",
    "\n",
    "\n",
    "が存在する. 本項では, **bit全探索**を行う.  \n",
    "  \n",
    "ここで, 部分集合の場合の数は$2^N$ある.  \n",
    "**bit全探索**では,  これらのペアを愚直に調べ上げることで回答することができます.\n",
    "\n",
    "### bit全探索\n",
    "bit全探索では，0の場合は値を未選択, 1の場合は値を選択していると考える.  \n",
    "例えば4つの数字 $\\left\\{ 1, 2, 3  \\right\\}$が与えられたとき, $\\left\\{ 0, 0, 0  \\right\\}$だと未選択，$\\left\\{ 0, 0, 1 \\right\\}$だと3のみを選択といった要領で表現する.  \n",
    "そして, 選択された部分集合が, $a_{i}$を含むか否かを**bitの論理積(&)**で表現する. 例えば以下の表のようになる.  \n",
    "\n",
    "| i |  bit_i  |  bit &   |\n",
    "| ---  | ---  | --- |\n",
    "|  1  |  0001  |  1101 & 0001 = 0001 (True)|\n",
    "|  2  |  0010  |  1010 & 0010 = 0010 (True)|\n",
    "|  3  |  0100  |  0101 & 0100 = 0100 (True)|\n",
    "\n",
    "<br>\n",
    "数字の取り出し方のパターンは以下のように8種類存在し, 二進法で表記することができる.\n",
    "\n",
    "|**10進法**　|**部分集合**| **二進法**|\n",
    "|---------------|----------------|--------------|\n",
    "|0|$\\emptyset$|000||\n",
    "|1|{1}|001||\n",
    "|2|{2}|010||\n",
    "|4|{1, 2}|011||\n",
    "|3|{3}|100||\n",
    "|5|{2, 3}|110||\n",
    "|6|{1, 3}|101||\n",
    "|7|{1, 2, 3}|111||\n",
    "\n",
    "ここで, $|N|$個の要素を含む集合$N$の部分集合に含まれる元の取り方は$|N|$桁の二進数で全て一対一対応させることができることがわかる.  \n",
    "また, 2 進数表記した場合の下から数えて n 桁目（一番下の桁を 0 とします）が 1 であるかどうかは, ```(x >> n) & 1```でチェックすることが可能.  ```(x >> n) & 1```はパターンとして覚えてしまうのが良い."
   ]
  },
  {
   "cell_type": "code",
   "execution_count": 142,
   "metadata": {
    "scrolled": true
   },
   "outputs": [
    {
     "name": "stdout",
     "output_type": "stream",
     "text": [
      "0 : [0, 0, 0]\n",
      "1 : [1, 0, 0]\n",
      "2 : [0, 1, 0]\n",
      "3 : [1, 1, 0]\n",
      "4 : [0, 0, 1]\n",
      "5 : [1, 0, 1]\n",
      "6 : [0, 1, 1]\n",
      "7 : [1, 1, 1]\n"
     ]
    }
   ],
   "source": [
    "N = [1, 2, 3]\n",
    "num_N = len(N)\n",
    "num_pairs = 2**num_N\n",
    "\n",
    "for x in range(num_pairs):\n",
    "    print(x, \":\", [(x >> n) & 1 for n in range(num_N)])"
   ]
  },
  {
   "cell_type": "markdown",
   "metadata": {},
   "source": [
    "## 例題\n",
    "**3つの数字{1,2,8}の中から何個でも良いので自由に数字を選んで和を取ることで10を作れるか？**"
   ]
  },
  {
   "cell_type": "code",
   "execution_count": 150,
   "metadata": {},
   "outputs": [
    {
     "name": "stdout",
     "output_type": "stream",
     "text": [
      "Yes\n"
     ]
    }
   ],
   "source": [
    "N = [1, 2, 8]\n",
    "n = len(N)\n",
    "K = 10\n",
    "\n",
    "for subset_num in range(2**n):\n",
    "    sum_ = 0\n",
    "    for i in range(n):\n",
    "        if (subset_num >>i) & 1:\n",
    "            sum_ += N[i]\n",
    "    if sum_ == K:\n",
    "        print('Yes')\n",
    "        break"
   ]
  }
 ],
 "metadata": {
  "kernelspec": {
   "display_name": "Python 3 (ipykernel)",
   "language": "python",
   "name": "python3"
  },
  "language_info": {
   "codemirror_mode": {
    "name": "ipython",
    "version": 3
   },
   "file_extension": ".py",
   "mimetype": "text/x-python",
   "name": "python",
   "nbconvert_exporter": "python",
   "pygments_lexer": "ipython3",
   "version": "3.9.6"
  }
 },
 "nbformat": 4,
 "nbformat_minor": 4
}
