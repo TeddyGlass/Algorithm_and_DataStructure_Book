{
 "cells": [
  {
   "cell_type": "code",
   "execution_count": 1,
   "source": [
    "import numpy as np"
   ],
   "outputs": [],
   "metadata": {}
  },
  {
   "cell_type": "markdown",
   "source": [
    "# 再帰\n",
    "---\n",
    "## 再帰関数\n",
    "自分自身を呼び出す関数のことを**再帰関数**という.  \n",
    "以下に具体例を実装する.  \n",
    "この例では, $N=5$の場合を考える.  \n",
    "$N$が0でなかった場合に```N + func(N-1)```=```5 + func(5-1)```を計算するが, このとき, ```func(5-1)```は```func(4)```なので, さらに```4 + func((4)-1)```が計算される.  \n",
    "このように, $5 + 4 + 3 + 2 + 1 + 0$という処理が再帰的に処理が進行していき, 15という結果を得る."
   ],
   "metadata": {}
  },
  {
   "cell_type": "code",
   "execution_count": 28,
   "source": [
    "def func(N):\n",
    "    if N == 0:\n",
    "        return 0\n",
    "    print(f'func({N})を呼び出しました...')\n",
    "    return N + func(N-1)\n",
    "\n",
    "print(func(5))"
   ],
   "outputs": [
    {
     "output_type": "stream",
     "name": "stdout",
     "text": [
      "func(5)を呼び出しました...\n",
      "func(4)を呼び出しました...\n",
      "func(3)を呼び出しました...\n",
      "func(2)を呼び出しました...\n",
      "func(1)を呼び出しました...\n",
      "15\n"
     ]
    }
   ],
   "metadata": {}
  },
  {
   "cell_type": "markdown",
   "source": [
    "# 1から$N$までの総和を求める.\n",
    "---\n",
    "上記の関数を応用すると1から$N$までの総和を求めることが可能である.  \n",
    "base caseとbase outputを設定することで条件を任意に変形させることが可能."
   ],
   "metadata": {}
  },
  {
   "cell_type": "code",
   "execution_count": 43,
   "source": [
    "def func(N):\n",
    "    if N == 0: # set base case by yourself\n",
    "        return 0 # set base output case by yourself\n",
    "    return N + func(N-1)\n",
    "\n",
    "print(func(100))"
   ],
   "outputs": [
    {
     "output_type": "stream",
     "name": "stdout",
     "text": [
      "5050\n"
     ]
    }
   ],
   "metadata": {}
  },
  {
   "cell_type": "code",
   "execution_count": 45,
   "source": [
    "def func(N):\n",
    "    if N == 0: # set base case by yourself\n",
    "        return 100 # set base output case by yourself\n",
    "    print(f'func({N})を呼び出しました...')\n",
    "    return N + func(N-1)\n",
    "\n",
    "print(func(5))"
   ],
   "outputs": [
    {
     "output_type": "stream",
     "name": "stdout",
     "text": [
      "func(5)を呼び出しました...\n",
      "func(4)を呼び出しました...\n",
      "func(3)を呼び出しました...\n",
      "func(2)を呼び出しました...\n",
      "func(1)を呼び出しました...\n",
      "115\n"
     ]
    }
   ],
   "metadata": {}
  },
  {
   "cell_type": "code",
   "execution_count": 46,
   "source": [
    "def func(N):\n",
    "    if N == 1: # set base case by yourself\n",
    "        return 0 # set base output case by yourself\n",
    "    print(f'func({N})を呼び出しました...')\n",
    "    return N + func(N-1)\n",
    "\n",
    "print(func(5))"
   ],
   "outputs": [
    {
     "output_type": "stream",
     "name": "stdout",
     "text": [
      "func(5)を呼び出しました...\n",
      "func(4)を呼び出しました...\n",
      "func(3)を呼び出しました...\n",
      "func(2)を呼び出しました...\n",
      "14\n"
     ]
    }
   ],
   "metadata": {}
  },
  {
   "cell_type": "markdown",
   "source": [
    "# Euclid互除法\n",
    "---\n",
    "Euclid互除法とは, 2つの整数$m, n$の最大公約数$GCD(m, n)$を求めるアルゴリズムのことを言う.  \n",
    "ここで, 最大公約数$GCD(m, n)$について以下の定理が成り立つ.　　\n",
    "> $m$を$n$で割った時のあまりを$r$とすると  \n",
    "> $$GCD(m,n) = GCD(n, r)$$\n",
    "> が成り立つ\n",
    "\n",
    "この性質を利用すると, 最大公約数を再帰関数で求めることができる.  \n",
    "1. $m$を$n$で割った時のあまりを$r$とする  \n",
    "2. $r=0$であれば, この時の$n$が最大公約数であり, ここで処理を終了する. \n",
    "3. $r\\neq 0$であれば, $n\\mapsto{m}$, $r\\mapsto{n}$ (上記の定理を利用)として, 手順1に戻る"
   ],
   "metadata": {}
  },
  {
   "cell_type": "code",
   "execution_count": 54,
   "source": [
    "def GCD(m, n):\n",
    "    r = m%n\n",
    "    if r == 0:\n",
    "        return n\n",
    "    else:\n",
    "        return GCD(n, r) # ここで再帰させる\n",
    "print('GCD', GCD(51, 15))"
   ],
   "outputs": [
    {
     "output_type": "stream",
     "name": "stdout",
     "text": [
      "GCD 3\n"
     ]
    }
   ],
   "metadata": {}
  },
  {
   "cell_type": "markdown",
   "source": [
    "# フィボナッチ数列\n",
    "---\n",
    "以下の数列をフィボナッチ数列という  \n",
    "* $F_{0} = 0$  \n",
    "* $F_{1} = 1$\n",
    "* $F_{N} =F_{N-1} + F_{N-2}$"
   ],
   "metadata": {}
  },
  {
   "cell_type": "code",
   "execution_count": 59,
   "source": [
    "def fibo(N):\n",
    "    print(f'fibo({N})を呼び出しました.')\n",
    "    if N == 0:\n",
    "        return 0\n",
    "    else:\n",
    "        if N == 1:\n",
    "            return 1\n",
    "        result = fibo(N-1) + fibo(N-2)\n",
    "        print(f'第 {N} 項 = {result}')\n",
    "        return result\n",
    "print(fibo(6))"
   ],
   "outputs": [
    {
     "output_type": "stream",
     "name": "stdout",
     "text": [
      "fibo(6)を呼び出しました.\n",
      "fibo(5)を呼び出しました.\n",
      "fibo(4)を呼び出しました.\n",
      "fibo(3)を呼び出しました.\n",
      "fibo(2)を呼び出しました.\n",
      "fibo(1)を呼び出しました.\n",
      "fibo(0)を呼び出しました.\n",
      "第 2 項 = 1\n",
      "fibo(1)を呼び出しました.\n",
      "第 3 項 = 2\n",
      "fibo(2)を呼び出しました.\n",
      "fibo(1)を呼び出しました.\n",
      "fibo(0)を呼び出しました.\n",
      "第 2 項 = 1\n",
      "第 4 項 = 3\n",
      "fibo(3)を呼び出しました.\n",
      "fibo(2)を呼び出しました.\n",
      "fibo(1)を呼び出しました.\n",
      "fibo(0)を呼び出しました.\n",
      "第 2 項 = 1\n",
      "fibo(1)を呼び出しました.\n",
      "第 3 項 = 2\n",
      "第 5 項 = 5\n",
      "fibo(4)を呼び出しました.\n",
      "fibo(3)を呼び出しました.\n",
      "fibo(2)を呼び出しました.\n",
      "fibo(1)を呼び出しました.\n",
      "fibo(0)を呼び出しました.\n",
      "第 2 項 = 1\n",
      "fibo(1)を呼び出しました.\n",
      "第 3 項 = 2\n",
      "fibo(2)を呼び出しました.\n",
      "fibo(1)を呼び出しました.\n",
      "fibo(0)を呼び出しました.\n",
      "第 2 項 = 1\n",
      "第 4 項 = 3\n",
      "第 6 項 = 8\n",
      "8\n"
     ]
    }
   ],
   "metadata": {}
  },
  {
   "cell_type": "markdown",
   "source": [
    "# メモ化して動的計画法へ\n",
    "---\n",
    "実は, 上記のフィボナッチ数列の第$N$項を求める関数の計算量は$O((\\frac{1+\\sqrt{5}}{2})^N)$と言われており, かなり効率が悪い探索方法である.  \n",
    "ここでは, フィボナッチ数列の第$N$項を求める処理をより効率的に改善する策を学ぶ. "
   ],
   "metadata": {}
  },
  {
   "cell_type": "markdown",
   "source": [
    "## 1. for文のシンプルな反復で求める\n",
    "最も簡単なアプローチは$F_{0}=0$, $F_{1}=1$から出発して, 第$N$項まで順次足していく方法である.  \n",
    "この場合, 第$N$項を求める計算量は$O(N)$で済む."
   ],
   "metadata": {}
  },
  {
   "cell_type": "code",
   "execution_count": 85,
   "source": [
    "def fibo(N):\n",
    "    F = np.zeros(N+1, dtype=int)\n",
    "    F[0], F[1] = 0, 1\n",
    "    for n in range(2, N+1):\n",
    "            F[n] = F[n-1] + F[n-2]\n",
    "    return F\n",
    "\n",
    "N = 53\n",
    "print(fibo(N))"
   ],
   "outputs": [
    {
     "output_type": "stream",
     "name": "stdout",
     "text": [
      "[          0           1           1           2           3           5\n",
      "           8          13          21          34          55          89\n",
      "         144         233         377         610         987        1597\n",
      "        2584        4181        6765       10946       17711       28657\n",
      "       46368       75025      121393      196418      317811      514229\n",
      "      832040     1346269     2178309     3524578     5702887     9227465\n",
      "    14930352    24157817    39088169    63245986   102334155   165580141\n",
      "   267914296   433494437   701408733  1134903170  1836311903  2971215073\n",
      "  4807526976  7778742049 12586269025 20365011074 32951280099 53316291173]\n"
     ]
    }
   ],
   "metadata": {}
  },
  {
   "cell_type": "markdown",
   "source": [
    "## 2. フィボナッチ数列を求める再帰関数をメモ化する\n",
    "ここでいうメモ化とは,  \n",
    "> $$ fibo(v)\\mapsto{memo[v]} $$ \n",
    "\n",
    "のように, 答えを配列に格納することを指す.  \n",
    "このメモ化された値を直接呼び出せば計算が省略可能であり, この処理はいわゆる**キャッシュ**の概念に相当する.  \n",
    "この手法を使用することで, $O(N)$ で計算を実行することができる.\n"
   ],
   "metadata": {}
  },
  {
   "cell_type": "code",
   "execution_count": 127,
   "source": [
    "def fibo(N):\n",
    "    memo = np.zeros(N+1, dtype=int)\n",
    "    def fibo_rec(N):\n",
    "        if N == 0:\n",
    "            return 0\n",
    "        else:\n",
    "            if N == 1:\n",
    "                return 1\n",
    "            # ここで fibo_rec(N-1) と　fibo_rec(N-2)で計算結果がかぶっている場合は\n",
    "            # その値をリターンするようにする\n",
    "            elif memo[N] != 0:\n",
    "                return memo[N]\n",
    "            # memoに計算が格納されていない場合はフィボナッチ関数を実行\n",
    "            else:\n",
    "                memo[N] = fibo_rec(N-1) + fibo_rec(N-2)\n",
    "                return memo[N]\n",
    "    fibo_rec(N)\n",
    "    return memo\n",
    "\n",
    "print(fibo(53))"
   ],
   "outputs": [
    {
     "output_type": "stream",
     "name": "stdout",
     "text": [
      "[          0           0           1           2           3           5\n",
      "           8          13          21          34          55          89\n",
      "         144         233         377         610         987        1597\n",
      "        2584        4181        6765       10946       17711       28657\n",
      "       46368       75025      121393      196418      317811      514229\n",
      "      832040     1346269     2178309     3524578     5702887     9227465\n",
      "    14930352    24157817    39088169    63245986   102334155   165580141\n",
      "   267914296   433494437   701408733  1134903170  1836311903  2971215073\n",
      "  4807526976  7778742049 12586269025 20365011074 32951280099 53316291173]\n"
     ]
    }
   ],
   "metadata": {}
  },
  {
   "cell_type": "code",
   "execution_count": 128,
   "source": [
    "def fibo(N):\n",
    "    memo = np.zeros(N+1, dtype=int)\n",
    "    def fibo_(N):\n",
    "        if N == 0:\n",
    "            return 0\n",
    "        else:\n",
    "            if N == 1:\n",
    "                return 1\n",
    "            # ここで fibo_(N-1) と　fibo_(N-2)で計算結果がかぶっている場合は\n",
    "            # その値をリターンするようにする\n",
    "            elif memo[N] != 0:\n",
    "                return memo[N]\n",
    "            # memoに計算が格納されていない場合のみフィボナッチ関数を実行\n",
    "            else:\n",
    "                print(f'fibo({N})を呼び出しました.')\n",
    "                memo[N] = fibo_(N-1) + fibo_(N-2)\n",
    "                return memo[N]\n",
    "    fibo_(N)\n",
    "    return memo\n",
    "\n",
    "print(fibo(6))"
   ],
   "outputs": [
    {
     "output_type": "stream",
     "name": "stdout",
     "text": [
      "fibo(6)を呼び出しました.\n",
      "fibo(5)を呼び出しました.\n",
      "fibo(4)を呼び出しました.\n",
      "fibo(3)を呼び出しました.\n",
      "fibo(2)を呼び出しました.\n",
      "[0 0 1 2 3 5 8]\n"
     ]
    }
   ],
   "metadata": {}
  },
  {
   "cell_type": "markdown",
   "source": [
    "## 3. 再帰関数を用いた全探索\n",
    "再帰関数を用いて部分和問題を解く.  \n",
    "部分和問題とは, \n",
    "> $N$個の正の整数$a_{0}, a_{1}, a_{2}, ..., a_{N-1}$と, 正の整数$W$が与えられる.  \n",
    "> $a_{0}, a_{1}, a_{2}, ..., a_{N-1}$の中から何個かの整数(**部分集合**)を選んで総和(**部分和**)を$W$とすることができるかどうかを判定しなさい. \n",
    "\n",
    "という問であった.  \n",
    " \n",
    "これを再帰関数を用いて解く場合, 場合わけをするところから考えるとわかりやすい.  \n",
    "すなわち, 集合$A = \\left\\{ a_0, a_1, ...,  a_{N-1} \\right\\}$が与えられた時に,  \n",
    "  \n",
    "1. $a_{N-1}$を選ばない\n",
    "2. $a_{N-1}$を選ぶ\n",
    "\n",
    "の２つの場合に分けて考える.　　\n",
    "\n",
    "**ケース1**のとき,  \n",
    "集合$A = \\left\\{ a_0, a_1, ...,  a_{N-1} \\right\\}$から, $a_{N-1}$を除いた$N-1$個の集合$\\left\\{ a_0, a_1, ...,  a_{N-2} \\right\\}$から,  \n",
    "何個かを選んで**総和を$W$にする問題**に帰着できる.  \n",
    "\n",
    "**ケース2**のとき,  \n",
    "集合$A = \\left\\{ a_0, a_1, ...,  a_{N-1} \\right\\}$から, $a_{N-1}$を除いた$N-1$個の集合$\\left\\{ a_0, a_1, ...,  a_{N-2} \\right\\}$から,  \n",
    "何個かを選んで**総和を$W-a_{N-1}$にする問題**に帰着できる.  \n",
    "\n",
    "このすり替えられた２つの問に対し, 少なくとも１つが\"**Yes**\"だった場合, 元の問題の答えも\"**Yes**\"である.  \n",
    "一方, 両者ともに\"**No**\"であった場合は, 元の問題の答えも, \"**No**\"である.  \n",
    "\n",
    "これを再帰的に繰り返していくと, 最終的には, **0個の整数を使って$W$もしくは$W-(a_{N-1} + a_{N-2} + ...)$を作れるか？** という問題に帰着する.  \n",
    "0個の整数の総和は常に0だから, **0個の整数を用いて0を作れるパターンが存在した場合のみ, 元の問題の答えは\"Yes\"になる.**  \n",
    "<br>\n",
    "<br>\n",
    "<br>\n",
    "\n",
    "## 具体例\n",
    "$N=4$, $A = \\left\\{ 3, 2, 6, 5\\right\\}$, $W=14$ のとき  \n",
    "以下の図のようになる.  \n",
    " \n",
    "<img src=\"../figs/fig_1.png\">  \n",
    "\n",
    "この具体例を実装する. "
   ],
   "metadata": {}
  },
  {
   "cell_type": "code",
   "execution_count": 139,
   "source": [
    "def func(i:int, w:int, a:list):\n",
    "    '''\n",
    "    i: the number of elements in the subset\n",
    "    '''\n",
    "    # base case\n",
    "    if i == 0:\n",
    "        if w == 0:\n",
    "            return True\n",
    "        else:\n",
    "            return False\n",
    "    if func(i-1, w, a):\n",
    "        logg.append(f'a[{i-1}]を選ばない, w={w}')\n",
    "        return True\n",
    "\n",
    "    if func(i-1, w-a[i-1], a):\n",
    "        logg.append(f'a[{i-1}]を選ぶ, w={w-a[i-1]}')\n",
    "        return True\n",
    "    return False\n",
    "\n",
    "a = [3, 2, 6, 5]\n",
    "N = len(a)\n",
    "W = 13\n",
    "logg = []\n",
    "print(func(N, W, a))\n",
    "print(logg)"
   ],
   "outputs": [
    {
     "output_type": "stream",
     "name": "stdout",
     "text": [
      "True\n",
      "['a[0]を選ばない, w=0', 'a[1]を選ぶ, w=0', 'a[2]を選ぶ, w=2', 'a[3]を選ぶ, w=8']\n"
     ]
    }
   ],
   "metadata": {}
  },
  {
   "cell_type": "markdown",
   "source": [
    "上記の関数の動き方は非常にわかりにくいが, ```logg```をみてみよう.  \n",
    "また, 上記のソースコードの計算量は最悪ケースの場合$O(2^N)$である.\n"
   ],
   "metadata": {}
  }
 ],
 "metadata": {
  "orig_nbformat": 4,
  "language_info": {
   "name": "python",
   "version": "3.9.6",
   "mimetype": "text/x-python",
   "codemirror_mode": {
    "name": "ipython",
    "version": 3
   },
   "pygments_lexer": "ipython3",
   "nbconvert_exporter": "python",
   "file_extension": ".py"
  },
  "kernelspec": {
   "name": "python3",
   "display_name": "Python 3.9.6 64-bit ('algorithm': conda)"
  },
  "interpreter": {
   "hash": "4b89158e1287a38fd92dff0678a78ed041fd2cc0c7467883649787c212b3e680"
  }
 },
 "nbformat": 4,
 "nbformat_minor": 2
}